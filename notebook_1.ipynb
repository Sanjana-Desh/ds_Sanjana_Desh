{
  "nbformat": 4,
  "nbformat_minor": 0,
  "metadata": {
    "colab": {
      "provenance": [],
      "authorship_tag": "ABX9TyPW4ZyeLr8Nlzow7dRgDGKr",
      "include_colab_link": true
    },
    "kernelspec": {
      "name": "python3",
      "display_name": "Python 3"
    },
    "language_info": {
      "name": "python"
    }
  },
  "cells": [
    {
      "cell_type": "markdown",
      "metadata": {
        "id": "view-in-github",
        "colab_type": "text"
      },
      "source": [
        "<a href=\"https://colab.research.google.com/github/Sanjana-Desh/ds_Sanjana_Desh/blob/main/notebook_1.ipynb\" target=\"_parent\"><img src=\"https://colab.research.google.com/assets/colab-badge.svg\" alt=\"Open In Colab\"/></a>"
      ]
    },
    {
      "cell_type": "code",
      "execution_count": null,
      "metadata": {
        "colab": {
          "base_uri": "https://localhost:8080/"
        },
        "id": "DXTxO8VmdqM7",
        "outputId": "afd506cd-d7b0-4a2e-c380-71abe87a22f5"
      },
      "outputs": [
        {
          "output_type": "stream",
          "name": "stdout",
          "text": [
            "Mounted at /content/drive\n"
          ]
        }
      ],
      "source": [
        "from google.colab import drive\n",
        "drive.mount('/content/drive')\n"
      ]
    },
    {
      "cell_type": "code",
      "source": [
        "import os\n",
        "os.chdir('/content/drive/MyDrive/ds_Sanjana_Desh')"
      ],
      "metadata": {
        "id": "TO1Cgxp1dxyS"
      },
      "execution_count": null,
      "outputs": []
    },
    {
      "cell_type": "code",
      "source": [
        "import pandas as pd\n",
        "\n",
        "# Load the datasets\n",
        "trader_data = pd.read_csv('csv_files/historical_data.csv')\n",
        "sentiment_data = pd.read_csv('csv_files/fear_greed_index.csv')\n",
        "\n",
        "# Display first few rows\n",
        "print(trader_data.head())\n",
        "print(sentiment_data.head())"
      ],
      "metadata": {
        "colab": {
          "base_uri": "https://localhost:8080/"
        },
        "id": "TZzaDkY5eTaB",
        "outputId": "9dc2d84e-78d0-42bd-b691-f6915157c8a3"
      },
      "execution_count": null,
      "outputs": [
        {
          "output_type": "stream",
          "name": "stdout",
          "text": [
            "                                      Account  Coin  Execution Price  \\\n",
            "0  0xae5eacaf9c6b9111fd53034a602c192a04e082ed  @107           7.9769   \n",
            "1  0xae5eacaf9c6b9111fd53034a602c192a04e082ed  @107           7.9800   \n",
            "2  0xae5eacaf9c6b9111fd53034a602c192a04e082ed  @107           7.9855   \n",
            "3  0xae5eacaf9c6b9111fd53034a602c192a04e082ed  @107           7.9874   \n",
            "4  0xae5eacaf9c6b9111fd53034a602c192a04e082ed  @107           7.9894   \n",
            "\n",
            "   Size Tokens  Size USD Side     Timestamp IST  Start Position Direction  \\\n",
            "0       986.87   7872.16  BUY  02-12-2024 22:50        0.000000       Buy   \n",
            "1        16.00    127.68  BUY  02-12-2024 22:50      986.524596       Buy   \n",
            "2       144.09   1150.63  BUY  02-12-2024 22:50     1002.518996       Buy   \n",
            "3       142.98   1142.04  BUY  02-12-2024 22:50     1146.558564       Buy   \n",
            "4         8.73     69.75  BUY  02-12-2024 22:50     1289.488521       Buy   \n",
            "\n",
            "   Closed PnL                                   Transaction Hash     Order ID  \\\n",
            "0         0.0  0xec09451986a1874e3a980418412fcd0201f500c95bac...  52017706630   \n",
            "1         0.0  0xec09451986a1874e3a980418412fcd0201f500c95bac...  52017706630   \n",
            "2         0.0  0xec09451986a1874e3a980418412fcd0201f500c95bac...  52017706630   \n",
            "3         0.0  0xec09451986a1874e3a980418412fcd0201f500c95bac...  52017706630   \n",
            "4         0.0  0xec09451986a1874e3a980418412fcd0201f500c95bac...  52017706630   \n",
            "\n",
            "   Crossed       Fee      Trade ID     Timestamp  \n",
            "0     True  0.345404  8.950000e+14  1.730000e+12  \n",
            "1     True  0.005600  4.430000e+14  1.730000e+12  \n",
            "2     True  0.050431  6.600000e+14  1.730000e+12  \n",
            "3     True  0.050043  1.080000e+15  1.730000e+12  \n",
            "4     True  0.003055  1.050000e+15  1.730000e+12  \n",
            "    timestamp  value classification        date\n",
            "0  1517463000     30           Fear  2018-02-01\n",
            "1  1517549400     15   Extreme Fear  2018-02-02\n",
            "2  1517635800     40           Fear  2018-02-03\n",
            "3  1517722200     24   Extreme Fear  2018-02-04\n",
            "4  1517808600     11   Extreme Fear  2018-02-05\n"
          ]
        }
      ]
    },
    {
      "cell_type": "code",
      "source": [
        "# Check data info\n",
        "print(\"Trader Data Info:\")\n",
        "print(trader_data.info())\n",
        "print(\"\\nSentiment Data Info:\")\n",
        "print(sentiment_data.info())\n",
        "\n",
        "# Check for missing values\n",
        "print(\"\\nMissing values in Trader Data:\")\n",
        "print(trader_data.isnull().sum())\n",
        "print(\"\\nMissing values in Sentiment Data:\")\n",
        "print(sentiment_data.isnull().sum())\n",
        "\n",
        "# Basic statistics\n",
        "print(trader_data.describe())\n",
        "print(sentiment_data.describe())"
      ],
      "metadata": {
        "colab": {
          "base_uri": "https://localhost:8080/"
        },
        "id": "BylCopT3eZpl",
        "outputId": "284eed5c-9d2e-464d-be80-c354b1c97170"
      },
      "execution_count": null,
      "outputs": [
        {
          "output_type": "stream",
          "name": "stdout",
          "text": [
            "Trader Data Info:\n",
            "<class 'pandas.core.frame.DataFrame'>\n",
            "RangeIndex: 211224 entries, 0 to 211223\n",
            "Data columns (total 16 columns):\n",
            " #   Column            Non-Null Count   Dtype  \n",
            "---  ------            --------------   -----  \n",
            " 0   Account           211224 non-null  object \n",
            " 1   Coin              211224 non-null  object \n",
            " 2   Execution Price   211224 non-null  float64\n",
            " 3   Size Tokens       211224 non-null  float64\n",
            " 4   Size USD          211224 non-null  float64\n",
            " 5   Side              211224 non-null  object \n",
            " 6   Timestamp IST     211224 non-null  object \n",
            " 7   Start Position    211224 non-null  float64\n",
            " 8   Direction         211224 non-null  object \n",
            " 9   Closed PnL        211224 non-null  float64\n",
            " 10  Transaction Hash  211224 non-null  object \n",
            " 11  Order ID          211224 non-null  int64  \n",
            " 12  Crossed           211224 non-null  bool   \n",
            " 13  Fee               211224 non-null  float64\n",
            " 14  Trade ID          211224 non-null  float64\n",
            " 15  Timestamp         211224 non-null  float64\n",
            "dtypes: bool(1), float64(8), int64(1), object(6)\n",
            "memory usage: 24.4+ MB\n",
            "None\n",
            "\n",
            "Sentiment Data Info:\n",
            "<class 'pandas.core.frame.DataFrame'>\n",
            "RangeIndex: 2644 entries, 0 to 2643\n",
            "Data columns (total 4 columns):\n",
            " #   Column          Non-Null Count  Dtype \n",
            "---  ------          --------------  ----- \n",
            " 0   timestamp       2644 non-null   int64 \n",
            " 1   value           2644 non-null   int64 \n",
            " 2   classification  2644 non-null   object\n",
            " 3   date            2644 non-null   object\n",
            "dtypes: int64(2), object(2)\n",
            "memory usage: 82.8+ KB\n",
            "None\n",
            "\n",
            "Missing values in Trader Data:\n",
            "Account             0\n",
            "Coin                0\n",
            "Execution Price     0\n",
            "Size Tokens         0\n",
            "Size USD            0\n",
            "Side                0\n",
            "Timestamp IST       0\n",
            "Start Position      0\n",
            "Direction           0\n",
            "Closed PnL          0\n",
            "Transaction Hash    0\n",
            "Order ID            0\n",
            "Crossed             0\n",
            "Fee                 0\n",
            "Trade ID            0\n",
            "Timestamp           0\n",
            "dtype: int64\n",
            "\n",
            "Missing values in Sentiment Data:\n",
            "timestamp         0\n",
            "value             0\n",
            "classification    0\n",
            "date              0\n",
            "dtype: int64\n",
            "       Execution Price   Size Tokens      Size USD  Start Position  \\\n",
            "count    211224.000000  2.112240e+05  2.112240e+05    2.112240e+05   \n",
            "mean      11414.723350  4.623365e+03  5.639451e+03   -2.994625e+04   \n",
            "std       29447.654868  1.042729e+05  3.657514e+04    6.738074e+05   \n",
            "min           0.000005  8.740000e-07  0.000000e+00   -1.433463e+07   \n",
            "25%           4.854700  2.940000e+00  1.937900e+02   -3.762311e+02   \n",
            "50%          18.280000  3.200000e+01  5.970450e+02    8.472793e+01   \n",
            "75%         101.580000  1.879025e+02  2.058960e+03    9.337278e+03   \n",
            "max      109004.000000  1.582244e+07  3.921431e+06    3.050948e+07   \n",
            "\n",
            "          Closed PnL      Order ID            Fee      Trade ID     Timestamp  \n",
            "count  211224.000000  2.112240e+05  211224.000000  2.112240e+05  2.112240e+05  \n",
            "mean       48.749001  6.965388e+10       1.163967  5.628549e+14  1.737744e+12  \n",
            "std       919.164828  1.835753e+10       6.758854  3.257565e+14  8.689920e+09  \n",
            "min   -117990.104100  1.732711e+08      -1.175712  0.000000e+00  1.680000e+12  \n",
            "25%         0.000000  5.983853e+10       0.016121  2.810000e+14  1.740000e+12  \n",
            "50%         0.000000  7.442939e+10       0.089578  5.620000e+14  1.740000e+12  \n",
            "75%         5.792797  8.335543e+10       0.393811  8.460000e+14  1.740000e+12  \n",
            "max    135329.090100  9.014923e+10     837.471593  1.130000e+15  1.750000e+12  \n",
            "          timestamp        value\n",
            "count  2.644000e+03  2644.000000\n",
            "mean   1.631899e+09    46.981089\n",
            "std    6.597967e+07    21.827680\n",
            "min    1.517463e+09     5.000000\n",
            "25%    1.574811e+09    28.000000\n",
            "50%    1.631900e+09    46.000000\n",
            "75%    1.688989e+09    66.000000\n",
            "max    1.746164e+09    95.000000\n"
          ]
        }
      ]
    },
    {
      "cell_type": "code",
      "source": [
        "# Check the timestamp values first\n",
        "print(\"Sample timestamps from trader data:\")\n",
        "print(trader_data['Timestamp'].head())\n",
        "print(\"\\nSample timestamps from sentiment data:\")\n",
        "print(sentiment_data['timestamp'].head())\n",
        "\n",
        "# Convert timestamp columns to datetime\n",
        "# These are in MILLISECONDS, so divide by 1000 or use unit='ms'\n",
        "trader_data['Timestamp'] = pd.to_datetime(trader_data['Timestamp'], unit='ms')\n",
        "sentiment_data['timestamp'] = pd.to_datetime(sentiment_data['timestamp'], unit='s')\n",
        "\n",
        "# Extract date only (no time) for merging\n",
        "trader_data['date'] = trader_data['Timestamp'].dt.date\n",
        "sentiment_data['date'] = sentiment_data['timestamp'].dt.date\n",
        "\n",
        "# Check the date ranges\n",
        "print(\"Trader data date range:\", trader_data['date'].min(), \"to\", trader_data['date'].max())\n",
        "print(\"Sentiment data date range:\", sentiment_data['date'].min(), \"to\", sentiment_data['date'].max())"
      ],
      "metadata": {
        "colab": {
          "base_uri": "https://localhost:8080/"
        },
        "id": "A54WBKPOekLG",
        "outputId": "79433101-9369-4f90-f08a-69b8907eafcb"
      },
      "execution_count": null,
      "outputs": [
        {
          "output_type": "stream",
          "name": "stdout",
          "text": [
            "Sample timestamps from trader data:\n",
            "0    1.730000e+12\n",
            "1    1.730000e+12\n",
            "2    1.730000e+12\n",
            "3    1.730000e+12\n",
            "4    1.730000e+12\n",
            "Name: Timestamp, dtype: float64\n",
            "\n",
            "Sample timestamps from sentiment data:\n",
            "0    1517463000\n",
            "1    1517549400\n",
            "2    1517635800\n",
            "3    1517722200\n",
            "4    1517808600\n",
            "Name: timestamp, dtype: int64\n",
            "Trader data date range: 2023-03-28 to 2025-06-15\n",
            "Sentiment data date range: 2018-02-01 to 2025-05-02\n"
          ]
        }
      ]
    },
    {
      "cell_type": "code",
      "source": [
        "# Merge trader data with sentiment data on date\n",
        "merged_data = trader_data.merge(sentiment_data[['date', 'classification', 'value']],\n",
        "                                 on='date',\n",
        "                                 how='left')\n",
        "\n",
        "# Save merged data\n",
        "merged_data.to_csv('csv_files/merged_data.csv', index=False)\n",
        "print(\"Merged data shape:\", merged_data.shape)\n",
        "print(merged_data.head())"
      ],
      "metadata": {
        "colab": {
          "base_uri": "https://localhost:8080/"
        },
        "id": "qlqa_IDZenHC",
        "outputId": "565ee5dc-7284-4e02-c415-4fbe5bfd15b5"
      },
      "execution_count": null,
      "outputs": [
        {
          "output_type": "stream",
          "name": "stdout",
          "text": [
            "Merged data shape: (211224, 19)\n",
            "                                      Account  Coin  Execution Price  \\\n",
            "0  0xae5eacaf9c6b9111fd53034a602c192a04e082ed  @107           7.9769   \n",
            "1  0xae5eacaf9c6b9111fd53034a602c192a04e082ed  @107           7.9800   \n",
            "2  0xae5eacaf9c6b9111fd53034a602c192a04e082ed  @107           7.9855   \n",
            "3  0xae5eacaf9c6b9111fd53034a602c192a04e082ed  @107           7.9874   \n",
            "4  0xae5eacaf9c6b9111fd53034a602c192a04e082ed  @107           7.9894   \n",
            "\n",
            "   Size Tokens  Size USD Side     Timestamp IST  Start Position Direction  \\\n",
            "0       986.87   7872.16  BUY  02-12-2024 22:50        0.000000       Buy   \n",
            "1        16.00    127.68  BUY  02-12-2024 22:50      986.524596       Buy   \n",
            "2       144.09   1150.63  BUY  02-12-2024 22:50     1002.518996       Buy   \n",
            "3       142.98   1142.04  BUY  02-12-2024 22:50     1146.558564       Buy   \n",
            "4         8.73     69.75  BUY  02-12-2024 22:50     1289.488521       Buy   \n",
            "\n",
            "   Closed PnL                                   Transaction Hash     Order ID  \\\n",
            "0         0.0  0xec09451986a1874e3a980418412fcd0201f500c95bac...  52017706630   \n",
            "1         0.0  0xec09451986a1874e3a980418412fcd0201f500c95bac...  52017706630   \n",
            "2         0.0  0xec09451986a1874e3a980418412fcd0201f500c95bac...  52017706630   \n",
            "3         0.0  0xec09451986a1874e3a980418412fcd0201f500c95bac...  52017706630   \n",
            "4         0.0  0xec09451986a1874e3a980418412fcd0201f500c95bac...  52017706630   \n",
            "\n",
            "   Crossed       Fee      Trade ID           Timestamp        date  \\\n",
            "0     True  0.345404  8.950000e+14 2024-10-27 03:33:20  2024-10-27   \n",
            "1     True  0.005600  4.430000e+14 2024-10-27 03:33:20  2024-10-27   \n",
            "2     True  0.050431  6.600000e+14 2024-10-27 03:33:20  2024-10-27   \n",
            "3     True  0.050043  1.080000e+15 2024-10-27 03:33:20  2024-10-27   \n",
            "4     True  0.003055  1.050000e+15 2024-10-27 03:33:20  2024-10-27   \n",
            "\n",
            "  classification  value  \n",
            "0          Greed   74.0  \n",
            "1          Greed   74.0  \n",
            "2          Greed   74.0  \n",
            "3          Greed   74.0  \n",
            "4          Greed   74.0  \n"
          ]
        }
      ]
    },
    {
      "cell_type": "code",
      "source": [
        "# First, check what columns we actually have\n",
        "print(\"Available columns in merged_data:\")\n",
        "print(merged_data.columns.tolist())"
      ],
      "metadata": {
        "colab": {
          "base_uri": "https://localhost:8080/"
        },
        "id": "S2bnNhaRfQqy",
        "outputId": "7b7835ef-97a4-448a-d1da-624317b21fed"
      },
      "execution_count": null,
      "outputs": [
        {
          "output_type": "stream",
          "name": "stdout",
          "text": [
            "Available columns in merged_data:\n",
            "['Account', 'Coin', 'Execution Price', 'Size Tokens', 'Size USD', 'Side', 'Timestamp IST', 'Start Position', 'Direction', 'Closed PnL', 'Transaction Hash', 'Order ID', 'Crossed', 'Fee', 'Trade ID', 'Timestamp', 'date', 'classification', 'value']\n"
          ]
        }
      ]
    },
    {
      "cell_type": "code",
      "source": [
        "# Calculate profit/loss per trade\n",
        "merged_data['PnL'] = merged_data['Closed PnL']\n",
        "\n",
        "# Group by account to get trader performance\n",
        "trader_performance = merged_data.groupby('Account').agg({\n",
        "    'PnL': 'sum',\n",
        "    'Fee': 'sum',\n",
        "    'Trade ID': 'count'\n",
        "}).rename(columns={'Trade ID': 'num_trades'})\n",
        "\n",
        "trader_performance['net_profit'] = trader_performance['PnL'] - trader_performance['Fee']\n",
        "trader_performance['avg_profit_per_trade'] = trader_performance['net_profit'] / trader_performance['num_trades']\n",
        "\n",
        "print(trader_performance.head(10))"
      ],
      "metadata": {
        "id": "y_s0lKi8fago",
        "colab": {
          "base_uri": "https://localhost:8080/"
        },
        "outputId": "bfce5de3-b22f-4a93-c488-053b08c1f984"
      },
      "execution_count": null,
      "outputs": [
        {
          "output_type": "stream",
          "name": "stdout",
          "text": [
            "                                                     PnL          Fee  \\\n",
            "Account                                                                 \n",
            "0x083384f897ee0f19899168e3b1bec365f52a9012  1.600230e+06  7405.312304   \n",
            "0x23e7a7f8d14b550961925fbfdaa92f5d195ba5bd  4.788532e+04  2729.837889   \n",
            "0x271b280974205ca63b716753467d5a371de622ab -7.043619e+04  9280.982850   \n",
            "0x28736f43f1e871e6aa8b1148d38d4994275d72c4  1.324648e+05  2218.367366   \n",
            "0x2c229d22b100a7beb69122eed721cee9b24011dd  1.686580e+05  3108.196722   \n",
            "0x3998f134d6aaa2b6a5f723806d00fd2bbbbce891 -3.120360e+04   147.074763   \n",
            "0x39cef799f8b69da1995852eea189df24eb5cae3c  1.445692e+04  1458.657126   \n",
            "0x3f9a0aadc7f04a7c9d75dc1b5a6ddd6e36486cf6  5.349625e+04   176.274176   \n",
            "0x420ab45e0bd8863569a5efbb9c05d91f40624641  1.995056e+05   267.967089   \n",
            "0x430f09841d65beb3f27765503d0f850b8bce7713  4.165419e+05   747.006931   \n",
            "\n",
            "                                            num_trades    net_profit  \\\n",
            "Account                                                                \n",
            "0x083384f897ee0f19899168e3b1bec365f52a9012        3818  1.592825e+06   \n",
            "0x23e7a7f8d14b550961925fbfdaa92f5d195ba5bd        7280  4.515548e+04   \n",
            "0x271b280974205ca63b716753467d5a371de622ab        3809 -7.971717e+04   \n",
            "0x28736f43f1e871e6aa8b1148d38d4994275d72c4       13311  1.302464e+05   \n",
            "0x2c229d22b100a7beb69122eed721cee9b24011dd        3239  1.655498e+05   \n",
            "0x3998f134d6aaa2b6a5f723806d00fd2bbbbce891         815 -3.135067e+04   \n",
            "0x39cef799f8b69da1995852eea189df24eb5cae3c        3589  1.299826e+04   \n",
            "0x3f9a0aadc7f04a7c9d75dc1b5a6ddd6e36486cf6         332  5.331997e+04   \n",
            "0x420ab45e0bd8863569a5efbb9c05d91f40624641         383  1.992376e+05   \n",
            "0x430f09841d65beb3f27765503d0f850b8bce7713        1237  4.157949e+05   \n",
            "\n",
            "                                            avg_profit_per_trade  \n",
            "Account                                                           \n",
            "0x083384f897ee0f19899168e3b1bec365f52a9012            417.188190  \n",
            "0x23e7a7f8d14b550961925fbfdaa92f5d195ba5bd              6.202676  \n",
            "0x271b280974205ca63b716753467d5a371de622ab            -20.928636  \n",
            "0x28736f43f1e871e6aa8b1148d38d4994275d72c4              9.784873  \n",
            "0x2c229d22b100a7beb69122eed721cee9b24011dd             51.111395  \n",
            "0x3998f134d6aaa2b6a5f723806d00fd2bbbbce891            -38.467086  \n",
            "0x39cef799f8b69da1995852eea189df24eb5cae3c              3.621695  \n",
            "0x3f9a0aadc7f04a7c9d75dc1b5a6ddd6e36486cf6            160.602329  \n",
            "0x420ab45e0bd8863569a5efbb9c05d91f40624641            520.202678  \n",
            "0x430f09841d65beb3f27765503d0f850b8bce7713            336.131662  \n"
          ]
        }
      ]
    },
    {
      "cell_type": "code",
      "source": [
        "# Analyze performance by sentiment\n",
        "sentiment_analysis = merged_data.groupby('classification').agg({\n",
        "    'PnL': ['mean', 'sum', 'count'],\n",
        "    'Fee': 'sum'\n",
        "})\n",
        "\n",
        "print(\"\\nPerformance by Market Sentiment:\")\n",
        "print(sentiment_analysis)\n",
        "\n",
        "# Calculate win rate by sentiment\n",
        "merged_data['is_profitable'] = merged_data['PnL'] > 0\n",
        "win_rate_by_sentiment = merged_data.groupby('classification')['is_profitable'].mean()\n",
        "print(\"\\nWin Rate by Sentiment:\")\n",
        "print(win_rate_by_sentiment)"
      ],
      "metadata": {
        "colab": {
          "base_uri": "https://localhost:8080/"
        },
        "id": "ysaCl8t3kG91",
        "outputId": "063682aa-24ac-4aa6-d9c0-491dda355d58"
      },
      "execution_count": null,
      "outputs": [
        {
          "output_type": "stream",
          "name": "stdout",
          "text": [
            "\n",
            "Performance by Market Sentiment:\n",
            "                      PnL                                  Fee\n",
            "                     mean           sum   count            sum\n",
            "classification                                                \n",
            "Extreme Greed   25.418772  1.769655e+05    6962    6812.781233\n",
            "Fear            50.047622  6.699925e+06  133871  145018.043618\n",
            "Greed           87.894859  3.189617e+06   36289   24334.033389\n",
            "Neutral         22.229713  1.587424e+05    7141    8743.877486\n",
            "\n",
            "Win Rate by Sentiment:\n",
            "classification\n",
            "Extreme Greed    0.490089\n",
            "Fear             0.415146\n",
            "Greed            0.446471\n",
            "Neutral          0.317182\n",
            "Name: is_profitable, dtype: float64\n"
          ]
        }
      ]
    },
    {
      "cell_type": "code",
      "source": [
        "import matplotlib.pyplot as plt\n",
        "import seaborn as sns\n",
        "\n",
        "# Set style\n",
        "sns.set_style(\"whitegrid\")\n",
        "\n",
        "# 1. PnL Distribution by Sentiment\n",
        "plt.figure(figsize=(10, 6))\n",
        "merged_data.boxplot(column='PnL', by='classification', figsize=(10, 6))\n",
        "plt.title('Profit/Loss Distribution by Market Sentiment')\n",
        "plt.suptitle('')\n",
        "plt.xlabel('Market Sentiment')\n",
        "plt.ylabel('Profit/Loss')\n",
        "plt.savefig('outputs/pnl_by_sentiment.png', dpi=300, bbox_inches='tight')\n",
        "plt.close()\n",
        "\n",
        "# 2. Win Rate by Sentiment\n",
        "plt.figure(figsize=(10, 6))\n",
        "win_rate_by_sentiment.plot(kind='bar', color=['red', 'yellow', 'green'])\n",
        "plt.title('Win Rate by Market Sentiment')\n",
        "plt.xlabel('Market Sentiment')\n",
        "plt.ylabel('Win Rate')\n",
        "plt.xticks(rotation=0)\n",
        "plt.savefig('outputs/win_rate_sentiment.png', dpi=300, bbox_inches='tight')\n",
        "plt.close()\n",
        "\n",
        "# 3. Trading Volume by Sentiment\n",
        "plt.figure(figsize=(10, 6))\n",
        "sentiment_counts = merged_data['classification'].value_counts()\n",
        "plt.pie(sentiment_counts, labels=sentiment_counts.index, autopct='%1.1f%%')\n",
        "plt.title('Trading Volume Distribution by Market Sentiment')\n",
        "plt.savefig('outputs/trading_volume_sentiment.png', dpi=300, bbox_inches='tight')\n",
        "plt.close()\n",
        "\n",
        "# 4. Average PnL by Sentiment\n",
        "plt.figure(figsize=(10, 6))\n",
        "avg_pnl = merged_data.groupby('classification')['PnL'].mean()\n",
        "avg_pnl.plot(kind='bar', color=['red', 'yellow', 'green'])\n",
        "plt.title('Average Profit/Loss by Market Sentiment')\n",
        "plt.xlabel('Market Sentiment')\n",
        "plt.ylabel('Average PnL')\n",
        "plt.xticks(rotation=0)\n",
        "plt.savefig('outputs/avg_pnl_sentiment.png', dpi=300, bbox_inches='tight')\n",
        "plt.close()\n",
        "\n",
        "print(\"All charts saved!\")"
      ],
      "metadata": {
        "colab": {
          "base_uri": "https://localhost:8080/",
          "height": 52
        },
        "id": "xi7RCBSNkL4n",
        "outputId": "38917a1a-2777-43dc-ff20-53d0b1b6ba53"
      },
      "execution_count": null,
      "outputs": [
        {
          "output_type": "stream",
          "name": "stdout",
          "text": [
            "All charts saved!\n"
          ]
        },
        {
          "output_type": "display_data",
          "data": {
            "text/plain": [
              "<Figure size 1000x600 with 0 Axes>"
            ]
          },
          "metadata": {}
        }
      ]
    },
    {
      "cell_type": "code",
      "source": [
        "import matplotlib.pyplot as plt\n",
        "import seaborn as sns\n",
        "\n",
        "# 1. Top 10 Most Profitable Traders\n",
        "plt.figure(figsize=(12, 6))\n",
        "top_traders = trader_performance.nlargest(10, 'net_profit')\n",
        "plt.barh(range(len(top_traders)), top_traders['net_profit'])\n",
        "plt.yticks(range(len(top_traders)), top_traders.index)\n",
        "plt.xlabel('Net Profit (USD)')\n",
        "plt.title('Top 10 Most Profitable Traders')\n",
        "plt.tight_layout()\n",
        "plt.savefig('outputs/top_profitable_traders.png', dpi=300, bbox_inches='tight')\n",
        "plt.close()\n",
        "\n",
        "# 2. Trading Activity by Account\n",
        "plt.figure(figsize=(12, 6))\n",
        "top_active = trader_performance.nlargest(10, 'num_trades')\n",
        "plt.barh(range(len(top_active)), top_active['num_trades'])\n",
        "plt.yticks(range(len(top_active)), top_active.index)\n",
        "plt.xlabel('Number of Trades')\n",
        "plt.title('Top 10 Most Active Traders')\n",
        "plt.tight_layout()\n",
        "plt.savefig('outputs/most_active_traders.png', dpi=300, bbox_inches='tight')\n",
        "plt.close()\n",
        "\n",
        "# 3. Distribution of Trader Performance\n",
        "plt.figure(figsize=(10, 6))\n",
        "plt.hist(trader_performance['net_profit'], bins=50, edgecolor='black')\n",
        "plt.xlabel('Net Profit (USD)')\n",
        "plt.ylabel('Number of Traders')\n",
        "plt.title('Distribution of Trader Performance')\n",
        "plt.axvline(x=0, color='red', linestyle='--', label='Break-even')\n",
        "plt.legend()\n",
        "plt.tight_layout()\n",
        "plt.savefig('outputs/trader_performance_distribution.png', dpi=300, bbox_inches='tight')\n",
        "plt.close()\n",
        "\n",
        "# 4. Trading Volume Over Time\n",
        "plt.figure(figsize=(14, 6))\n",
        "daily_trades = merged_data.groupby('date')['Trade ID'].count()\n",
        "plt.plot(daily_trades.index, daily_trades.values, marker='o')\n",
        "plt.xlabel('Date')\n",
        "plt.ylabel('Number of Trades')\n",
        "plt.title('Daily Trading Volume')\n",
        "plt.xticks(rotation=45)\n",
        "plt.grid(True, alpha=0.3)\n",
        "plt.tight_layout()\n",
        "plt.savefig('outputs/daily_trading_volume.png', dpi=300, bbox_inches='tight')\n",
        "plt.close()\n",
        "\n",
        "# 5. PnL Over Time\n",
        "plt.figure(figsize=(14, 6))\n",
        "daily_pnl = merged_data.groupby('date')['PnL'].sum()\n",
        "cumulative_pnl = daily_pnl.cumsum()\n",
        "plt.plot(cumulative_pnl.index, cumulative_pnl.values, linewidth=2)\n",
        "plt.xlabel('Date')\n",
        "plt.ylabel('Cumulative PnL (USD)')\n",
        "plt.title('Cumulative Profit/Loss Over Time')\n",
        "plt.xticks(rotation=45)\n",
        "plt.grid(True, alpha=0.3)\n",
        "plt.axhline(y=0, color='red', linestyle='--')\n",
        "plt.tight_layout()\n",
        "plt.savefig('outputs/cumulative_pnl_time.png', dpi=300, bbox_inches='tight')\n",
        "plt.close()\n",
        "\n",
        "# 6. Buy vs Sell Distribution\n",
        "plt.figure(figsize=(10, 6))\n",
        "side_counts = merged_data['Side'].value_counts()\n",
        "plt.pie(side_counts, labels=side_counts.index, autopct='%1.1f%%', startangle=90)\n",
        "plt.title('Buy vs Sell Distribution')\n",
        "plt.savefig('outputs/buy_sell_distribution.png', dpi=300, bbox_inches='tight')\n",
        "plt.close()\n",
        "\n",
        "# 7. Average Trade Size by Trader (Top 10)\n",
        "plt.figure(figsize=(12, 6))\n",
        "trader_avg_size = merged_data.groupby('Account')['Size USD'].mean().nlargest(10)\n",
        "plt.barh(range(len(trader_avg_size)), trader_avg_size.values)\n",
        "plt.yticks(range(len(trader_avg_size)), trader_avg_size.index)\n",
        "plt.xlabel('Average Trade Size (USD)')\n",
        "plt.title('Top 10 Traders by Average Trade Size')\n",
        "plt.tight_layout()\n",
        "plt.savefig('outputs/avg_trade_size_traders.png', dpi=300, bbox_inches='tight')\n",
        "plt.close()\n",
        "\n",
        "# 8. Fee Analysis\n",
        "plt.figure(figsize=(10, 6))\n",
        "top_fee_payers = trader_performance.nlargest(10, 'Fee')\n",
        "plt.barh(range(len(top_fee_payers)), top_fee_payers['Fee'])\n",
        "plt.yticks(range(len(top_fee_payers)), top_fee_payers.index)\n",
        "plt.xlabel('Total Fees Paid (USD)')\n",
        "plt.title('Top 10 Fee Contributors')\n",
        "plt.tight_layout()\n",
        "plt.savefig('outputs/top_fee_payers.png', dpi=300, bbox_inches='tight')\n",
        "plt.close()\n",
        "\n",
        "# 9. Profitability by Coin\n",
        "plt.figure(figsize=(12, 6))\n",
        "coin_performance = merged_data.groupby('Coin')['PnL'].sum().sort_values(ascending=False).head(10)\n",
        "plt.bar(range(len(coin_performance)), coin_performance.values)\n",
        "plt.xticks(range(len(coin_performance)), coin_performance.index, rotation=45, ha='right')\n",
        "plt.xlabel('Coin')\n",
        "plt.ylabel('Total PnL (USD)')\n",
        "plt.title('Top 10 Most Profitable Coins')\n",
        "plt.tight_layout()\n",
        "plt.savefig('outputs/profitable_coins.png', dpi=300, bbox_inches='tight')\n",
        "plt.close()\n",
        "\n",
        "# 10. Win Rate Distribution Across Traders\n",
        "plt.figure(figsize=(10, 6))\n",
        "trader_win_rates = merged_data.groupby('Account').apply(lambda x: (x['PnL'] > 0).mean())\n",
        "plt.hist(trader_win_rates, bins=30, edgecolor='black')\n",
        "plt.xlabel('Win Rate')\n",
        "plt.ylabel('Number of Traders')\n",
        "plt.title('Distribution of Win Rates Across Traders')\n",
        "plt.axvline(x=0.5, color='red', linestyle='--', label='50% Win Rate')\n",
        "plt.legend()\n",
        "plt.tight_layout()\n",
        "plt.savefig('outputs/win_rate_distribution.png', dpi=300, bbox_inches='tight')\n",
        "plt.close()\n",
        "\n",
        "print(\"All historical trader visualizations saved!\")"
      ],
      "metadata": {
        "colab": {
          "base_uri": "https://localhost:8080/"
        },
        "id": "DCh1WvJymVkY",
        "outputId": "37c22d0e-3364-4f0f-ea87-569c3141138d"
      },
      "execution_count": null,
      "outputs": [
        {
          "output_type": "stream",
          "name": "stderr",
          "text": [
            "/tmp/ipython-input-2349171924.py:110: DeprecationWarning: DataFrameGroupBy.apply operated on the grouping columns. This behavior is deprecated, and in a future version of pandas the grouping columns will be excluded from the operation. Either pass `include_groups=False` to exclude the groupings or explicitly select the grouping columns after groupby to silence this warning.\n",
            "  trader_win_rates = merged_data.groupby('Account').apply(lambda x: (x['PnL'] > 0).mean())\n"
          ]
        },
        {
          "output_type": "stream",
          "name": "stdout",
          "text": [
            "All historical trader visualizations saved!\n"
          ]
        }
      ]
    },
    {
      "cell_type": "code",
      "source": [
        "# 1. How individual traders perform in different sentiments\n",
        "plt.figure(figsize=(14, 8))\n",
        "top_10_traders = trader_performance.nlargest(10, 'net_profit').index\n",
        "\n",
        "trader_sentiment_perf = []\n",
        "for trader in top_10_traders:\n",
        "    trader_data = merged_data[merged_data['Account'] == trader]\n",
        "    for sentiment in ['Fear', 'Neutral', 'Greed']:\n",
        "        sentiment_trades = trader_data[trader_data['classification'] == sentiment]\n",
        "        if len(sentiment_trades) > 0:\n",
        "            avg_pnl = sentiment_trades['PnL'].mean()\n",
        "            trader_sentiment_perf.append({\n",
        "                'Trader': trader,\n",
        "                'Sentiment': sentiment,\n",
        "                'Avg_PnL': avg_pnl\n",
        "            })\n",
        "\n",
        "df_trader_sentiment = pd.DataFrame(trader_sentiment_perf)\n",
        "pivot_data = df_trader_sentiment.pivot(index='Trader', columns='Sentiment', values='Avg_PnL')\n",
        "\n",
        "pivot_data.plot(kind='bar', figsize=(14, 8))\n",
        "plt.title('Top 10 Traders: Performance Across Different Market Sentiments')\n",
        "plt.xlabel('Trader Account')\n",
        "plt.ylabel('Average PnL per Trade')\n",
        "plt.legend(title='Market Sentiment')\n",
        "plt.xticks(rotation=45, ha='right')\n",
        "plt.tight_layout()\n",
        "plt.savefig('outputs/traders_performance_by_sentiment.png', dpi=300, bbox_inches='tight')\n",
        "plt.close()\n",
        "\n",
        "# 2. Trading frequency vs sentiment\n",
        "plt.figure(figsize=(12, 6))\n",
        "trade_freq = merged_data.groupby(['Account', 'classification']).size().unstack(fill_value=0)\n",
        "top_traders_freq = trade_freq.loc[top_10_traders]\n",
        "\n",
        "top_traders_freq.plot(kind='bar', stacked=True, figsize=(12, 6))\n",
        "plt.title('Top 10 Traders: Trading Activity Across Market Sentiments')\n",
        "plt.xlabel('Trader Account')\n",
        "plt.ylabel('Number of Trades')\n",
        "plt.legend(title='Market Sentiment')\n",
        "plt.xticks(rotation=45, ha='right')\n",
        "plt.tight_layout()\n",
        "plt.savefig('outputs/trading_frequency_by_sentiment.png', dpi=300, bbox_inches='tight')\n",
        "plt.close()\n",
        "\n",
        "# 3. Sentiment preference - which traders trade more in Fear vs Greed\n",
        "sentiment_ratio = merged_data.groupby('Account')['classification'].apply(\n",
        "    lambda x: (x == 'Fear').sum() / (x == 'Greed').sum() if (x == 'Greed').sum() > 0 else 0\n",
        ")\n",
        "\n",
        "plt.figure(figsize=(12, 6))\n",
        "top_ratio_traders = sentiment_ratio.nlargest(15)\n",
        "colors = ['red' if x > 1 else 'green' for x in top_ratio_traders]\n",
        "plt.barh(range(len(top_ratio_traders)), top_ratio_traders.values, color=colors)\n",
        "plt.yticks(range(len(top_ratio_traders)), top_ratio_traders.index)\n",
        "plt.xlabel('Fear/Greed Trading Ratio (>1 = More Fear trades)')\n",
        "plt.title('Traders: Preference for Fear vs Greed Markets')\n",
        "plt.axvline(x=1, color='black', linestyle='--', label='Equal trading')\n",
        "plt.legend()\n",
        "plt.tight_layout()\n",
        "plt.savefig('outputs/trader_sentiment_preference.png', dpi=300, bbox_inches='tight')\n",
        "plt.close()\n",
        "\n",
        "# 4. Heatmap: Trader performance in different sentiments\n",
        "plt.figure(figsize=(10, 10))\n",
        "heatmap_data = merged_data.groupby(['Account', 'classification'])['PnL'].mean().unstack(fill_value=0)\n",
        "top_traders_heatmap = heatmap_data.loc[top_10_traders]\n",
        "\n",
        "sns.heatmap(top_traders_heatmap, annot=True, fmt='.2f', cmap='RdYlGn', center=0)\n",
        "plt.title('Heatmap: Top 10 Traders Average PnL by Market Sentiment')\n",
        "plt.xlabel('Market Sentiment')\n",
        "plt.ylabel('Trader Account')\n",
        "plt.tight_layout()\n",
        "plt.savefig('outputs/trader_sentiment_heatmap.png', dpi=300, bbox_inches='tight')\n",
        "plt.close()\n",
        "\n",
        "# 5. Does trading size change with sentiment?\n",
        "plt.figure(figsize=(12, 6))\n",
        "avg_size_sentiment = merged_data.groupby('classification')['Size USD'].mean()\n",
        "\n",
        "avg_size_sentiment.plot(kind='bar', color=['red', 'yellow', 'green'])\n",
        "plt.title('Average Trade Size by Market Sentiment')\n",
        "plt.xlabel('Market Sentiment')\n",
        "plt.ylabel('Average Trade Size (USD)')\n",
        "plt.xticks(rotation=0)\n",
        "plt.tight_layout()\n",
        "plt.savefig('outputs/trade_size_by_sentiment.png', dpi=300, bbox_inches='tight')\n",
        "plt.close()\n",
        "\n",
        "# 6. Coin preference in different sentiments\n",
        "plt.figure(figsize=(14, 8))\n",
        "top_coins = merged_data['Coin'].value_counts().head(5).index\n",
        "coin_sentiment = merged_data[merged_data['Coin'].isin(top_coins)].groupby(['Coin', 'classification']).size().unstack(fill_value=0)\n",
        "\n",
        "coin_sentiment.plot(kind='bar', figsize=(14, 8))\n",
        "plt.title('Top 5 Coins: Trading Volume Across Market Sentiments')\n",
        "plt.xlabel('Coin')\n",
        "plt.ylabel('Number of Trades')\n",
        "plt.legend(title='Market Sentiment')\n",
        "plt.xticks(rotation=45)\n",
        "plt.tight_layout()\n",
        "plt.savefig('outputs/coin_trading_by_sentiment.png', dpi=300, bbox_inches='tight')\n",
        "plt.close()\n",
        "\n",
        "print(\"All combined analysis visualizations saved!\")"
      ],
      "metadata": {
        "colab": {
          "base_uri": "https://localhost:8080/",
          "height": 86
        },
        "id": "qTJiU_1pnN2Y",
        "outputId": "30745da0-b40a-4ba8-9cf5-f0c06da4186a"
      },
      "execution_count": null,
      "outputs": [
        {
          "output_type": "stream",
          "name": "stdout",
          "text": [
            "All combined analysis visualizations saved!\n"
          ]
        },
        {
          "output_type": "display_data",
          "data": {
            "text/plain": [
              "<Figure size 1400x800 with 0 Axes>"
            ]
          },
          "metadata": {}
        },
        {
          "output_type": "display_data",
          "data": {
            "text/plain": [
              "<Figure size 1200x600 with 0 Axes>"
            ]
          },
          "metadata": {}
        },
        {
          "output_type": "display_data",
          "data": {
            "text/plain": [
              "<Figure size 1400x800 with 0 Axes>"
            ]
          },
          "metadata": {}
        }
      ]
    },
    {
      "cell_type": "code",
      "source": [
        "# Time series analysis\n",
        "merged_data_sorted = merged_data.sort_values('Timestamp')\n",
        "\n",
        "# Daily aggregate performance\n",
        "daily_performance = merged_data_sorted.groupby('date').agg({\n",
        "    'PnL': 'sum',\n",
        "    'value': 'mean',  # Fear/Greed index value\n",
        "    'Trade ID': 'count'\n",
        "})\n",
        "\n",
        "# Plot PnL over time with sentiment\n",
        "fig, ax1 = plt.subplots(figsize=(14, 6))\n",
        "\n",
        "ax1.plot(daily_performance.index, daily_performance['PnL'].cumsum(), 'b-', label='Cumulative PnL')\n",
        "ax1.set_xlabel('Date')\n",
        "ax1.set_ylabel('Cumulative PnL', color='b')\n",
        "ax1.tick_params(axis='y', labelcolor='b')\n",
        "\n",
        "ax2 = ax1.twinx()\n",
        "ax2.plot(daily_performance.index, daily_performance['value'], 'r-', alpha=0.5, label='Fear/Greed Index')\n",
        "ax2.set_ylabel('Fear/Greed Index', color='r')\n",
        "ax2.tick_params(axis='y', labelcolor='r')\n",
        "\n",
        "plt.title('Trading Performance vs Market Sentiment Over Time')\n",
        "fig.tight_layout()\n",
        "plt.savefig('outputs/performance_vs_sentiment_time.png', dpi=300, bbox_inches='tight')\n",
        "plt.close()"
      ],
      "metadata": {
        "id": "jTQbd9LSkOEc"
      },
      "execution_count": null,
      "outputs": []
    },
    {
      "cell_type": "code",
      "source": [
        "# Correlation between sentiment value and PnL\n",
        "correlation = merged_data[['value', 'PnL']].corr()\n",
        "print(\"\\nCorrelation Matrix:\")\n",
        "print(correlation)\n",
        "\n",
        "# Statistical test\n",
        "from scipy import stats\n",
        "\n",
        "fear_trades = merged_data[merged_data['classification'] == 'Fear']['PnL']\n",
        "greed_trades = merged_data[merged_data['classification'] == 'Greed']['PnL']\n",
        "\n",
        "if len(fear_trades) > 0 and len(greed_trades) > 0:\n",
        "    t_stat, p_value = stats.ttest_ind(fear_trades, greed_trades)\n",
        "    print(f\"\\nT-test between Fear and Greed trades:\")\n",
        "    print(f\"T-statistic: {t_stat:.4f}\")\n",
        "    print(f\"P-value: {p_value:.4f}\")"
      ],
      "metadata": {
        "colab": {
          "base_uri": "https://localhost:8080/"
        },
        "id": "0gM8Lf6kkTY-",
        "outputId": "85d17e1f-096a-424a-89e9-47a10d7d58de"
      },
      "execution_count": null,
      "outputs": [
        {
          "output_type": "stream",
          "name": "stdout",
          "text": [
            "\n",
            "Correlation Matrix:\n",
            "          value       PnL\n",
            "value  1.000000  0.011132\n",
            "PnL    0.011132  1.000000\n",
            "\n",
            "T-test between Fear and Greed trades:\n",
            "T-statistic: -6.6260\n",
            "P-value: 0.0000\n"
          ]
        }
      ]
    },
    {
      "cell_type": "code",
      "source": [
        "# Summary statistics\n",
        "print(\"\\n=== KEY FINDINGS ===\")\n",
        "print(f\"\\nTotal Trades Analyzed: {len(merged_data)}\")\n",
        "print(f\"Total Unique Traders: {merged_data['Account'].nunique()}\")\n",
        "print(f\"\\nOverall Performance:\")\n",
        "print(f\"Total PnL: ${merged_data['PnL'].sum():,.2f}\")\n",
        "print(f\"Total Fees: ${merged_data['Fee'].sum():,.2f}\")\n",
        "print(f\"Net Profit: ${(merged_data['PnL'].sum() - merged_data['Fee'].sum()):,.2f}\")\n",
        "print(f\"Overall Win Rate: {(merged_data['PnL'] > 0).mean():.2%}\")\n",
        "\n",
        "print(\"\\n\\nPerformance by Sentiment:\")\n",
        "for sentiment in ['Fear', 'Neutral', 'Greed']:\n",
        "    subset = merged_data[merged_data['classification'] == sentiment]\n",
        "    if len(subset) > 0:\n",
        "        print(f\"\\n{sentiment}:\")\n",
        "        print(f\"  Number of trades: {len(subset)}\")\n",
        "        print(f\"  Average PnL: ${subset['PnL'].mean():,.2f}\")\n",
        "        print(f\"  Win Rate: {(subset['PnL'] > 0).mean():.2%}\")\n",
        "        print(f\"  Total PnL: ${subset['PnL'].sum():,.2f}\")"
      ],
      "metadata": {
        "colab": {
          "base_uri": "https://localhost:8080/"
        },
        "id": "Xl2ewxC3kWFR",
        "outputId": "7ab10357-53af-4d5c-b58b-6831bd8e5e7f"
      },
      "execution_count": null,
      "outputs": [
        {
          "output_type": "stream",
          "name": "stdout",
          "text": [
            "\n",
            "=== KEY FINDINGS ===\n",
            "\n",
            "Total Trades Analyzed: 211224\n",
            "Total Unique Traders: 32\n",
            "\n",
            "Overall Performance:\n",
            "Total PnL: $10,296,958.94\n",
            "Total Fees: $245,857.72\n",
            "Net Profit: $10,051,101.22\n",
            "Overall Win Rate: 41.13%\n",
            "\n",
            "\n",
            "Performance by Sentiment:\n",
            "\n",
            "Fear:\n",
            "  Number of trades: 133871\n",
            "  Average PnL: $50.05\n",
            "  Win Rate: 41.51%\n",
            "  Total PnL: $6,699,925.19\n",
            "\n",
            "Neutral:\n",
            "  Number of trades: 7141\n",
            "  Average PnL: $22.23\n",
            "  Win Rate: 31.72%\n",
            "  Total PnL: $158,742.38\n",
            "\n",
            "Greed:\n",
            "  Number of trades: 36289\n",
            "  Average PnL: $87.89\n",
            "  Win Rate: 44.65%\n",
            "  Total PnL: $3,189,616.54\n"
          ]
        }
      ]
    },
    {
      "cell_type": "code",
      "source": [
        "# Verify merged_data exists, if not, reload it\n",
        "if 'merged_data' not in locals():\n",
        "    merged_data = pd.read_csv('csv_files/merged_data.csv')\n",
        "    merged_data['date'] = pd.to_datetime(merged_data['date'])\n",
        "\n",
        "# Save key findings to text file\n",
        "with open('outputs/key_findings.txt', 'w') as f:\n",
        "    f.write(\"=== TRADER BEHAVIOR & MARKET SENTIMENT ANALYSIS ===\\n\\n\")\n",
        "    f.write(f\"Analysis Period: {merged_data['date'].min()} to {merged_data['date'].max()}\\n\\n\")\n",
        "    f.write(f\"Total Trades: {len(merged_data)}\\n\")\n",
        "    f.write(f\"Unique Traders: {merged_data['Account'].nunique()}\\n\\n\")\n",
        "\n",
        "    f.write(\"KEY FINDINGS:\\n\")\n",
        "    f.write(\"1. Traders achieve 3.6x higher average profits ($89 vs $25) during Greed sentiment compared to Extreme Greed, indicating moderate optimism creates optimal trading conditions.\\n\")\n",
        "    f.write(\"2. 72.7% of trading activity occurs during Fear markets, showing strong contrarian behavior where traders buy during market panic.\\n\")\n",
        "    f.write(\"3. Trade size increases during emotional extremes (~$5,600 in Extreme Greed/Fear vs ~$3,200 in regular Greed).\\n\")\n",
        "    f.write(\"4. Cumulative profit reached ~$10.3M, with consistent upward trajectory and minimal drawdowns.\\n\")\n",
        "    f.write(\"5. Trading volume spikes dramatically in early 2025 (134K trades), while most days remain under 10K trades.\\n\")\n",
        "    f.write(\"6. Market sentiment leads profitability; profits accelerate during extreme Greed.\\n\")\n",
        "    f.write(\"7. Alt-coins (@107, HYPE, SOL) outperformed BTC in absolute profits (@107: $2.8M, HYPE: $1.95M, SOL: $1.65M, BTC: $860K).\\n\")\n",
        "    f.write(\"8. Individual trader performance varies dramatically by sentiment (e.g., 22x profit difference for top traders between best/worst sentiment conditions).\\n\")\n",
        "    f.write(\"9. High-volume traders prefer Fear periods, but most profitable trades occur during Greed.\\n\")\n",
        "    f.write(\"10. Buy/Sell trades are nearly balanced (48.6% BUY vs 51.4% SELL).\\n\")\n",
        "    f.write(\"11. Most traders maintain 40-45% win rates; profitability comes from position sizing and risk management rather than win rate.\\n\")\n",
        "    f.write(\"12. Profit distribution is concentrated among top traders; top trader net profit ~$2M.\\n\")\n",
        "    f.write(\"13. Majority of traders are slightly profitable or break-even; few major winners or losers.\\n\")\n",
        "    f.write(\"14. High trading frequency incurs substantial fees (~$80K for top fee payer), impacting net profitability.\\n\")\n",
        "    f.write(\"15. Win rates are highest during Greed (44%) and Extreme Greed (49%) periods, lowest during Neutral (31%), suggesting traders make better decisions during clear market trends.\\n\")\n",
        "    f.write(\"16. Visualization improvements needed: shorten wallet addresses, rotate/truncate X-axis labels.\\n\")\n",
        "\n",
        "print(\"Findings saved to outputs/key_findings.txt\")"
      ],
      "metadata": {
        "colab": {
          "base_uri": "https://localhost:8080/"
        },
        "id": "u5_5ApNjkZVl",
        "outputId": "a20bdd8b-8d01-4639-828b-d0ee1db7f311"
      },
      "execution_count": null,
      "outputs": [
        {
          "output_type": "stream",
          "name": "stdout",
          "text": [
            "Findings saved to outputs/key_findings.txt\n"
          ]
        }
      ]
    },
    {
      "cell_type": "code",
      "source": [],
      "metadata": {
        "id": "o1qsk4PZkbTr"
      },
      "execution_count": null,
      "outputs": []
    }
  ]
}